{
  "nbformat": 4,
  "nbformat_minor": 0,
  "metadata": {
    "colab": {
      "name": "Copy of intro to python for machine learning.ipynb",
      "provenance": []
    },
    "kernelspec": {
      "name": "python3",
      "display_name": "Python 3"
    },
    "language_info": {
      "name": "python"
    }
  },
  "cells": [
    {
      "cell_type": "code",
      "metadata": {
        "id": "WDAquJXFWV5A"
      },
      "source": [
        "import pandas as pd\n",
        "import numpy as np"
      ],
      "execution_count": null,
      "outputs": []
    },
    {
      "cell_type": "code",
      "metadata": {
        "id": "HZKFQAS9Wi12"
      },
      "source": [
        "url = 'https://raw.githubusercontent.com/WalePhenomenon/climate_change/master/fuel_ferc1.csv'"
      ],
      "execution_count": null,
      "outputs": []
    },
    {
      "cell_type": "code",
      "metadata": {
        "id": "DdUdOX-ZZI-6"
      },
      "source": [
        "fuel_data = pd.read_csv(url)"
      ],
      "execution_count": null,
      "outputs": []
    },
    {
      "cell_type": "code",
      "metadata": {
        "colab": {
          "base_uri": "https://localhost:8080/",
          "height": 317
        },
        "id": "_O-fU47jZY0H",
        "outputId": "08854b54-22cf-4273-9329-dfe8e0a76f0b"
      },
      "source": [
        "fuel_data.describe()"
      ],
      "execution_count": null,
      "outputs": [
        {
          "output_type": "execute_result",
          "data": {
            "text/html": [
              "<div>\n",
              "<style scoped>\n",
              "    .dataframe tbody tr th:only-of-type {\n",
              "        vertical-align: middle;\n",
              "    }\n",
              "\n",
              "    .dataframe tbody tr th {\n",
              "        vertical-align: top;\n",
              "    }\n",
              "\n",
              "    .dataframe thead th {\n",
              "        text-align: right;\n",
              "    }\n",
              "</style>\n",
              "<table border=\"1\" class=\"dataframe\">\n",
              "  <thead>\n",
              "    <tr style=\"text-align: right;\">\n",
              "      <th></th>\n",
              "      <th>utility_id_ferc1</th>\n",
              "      <th>report_year</th>\n",
              "      <th>fuel_qty_burned</th>\n",
              "      <th>fuel_mmbtu_per_unit</th>\n",
              "      <th>fuel_cost_per_unit_burned</th>\n",
              "      <th>fuel_cost_per_unit_delivered</th>\n",
              "      <th>fuel_cost_per_mmbtu</th>\n",
              "    </tr>\n",
              "  </thead>\n",
              "  <tbody>\n",
              "    <tr>\n",
              "      <th>count</th>\n",
              "      <td>29523.000000</td>\n",
              "      <td>29523.000000</td>\n",
              "      <td>2.952300e+04</td>\n",
              "      <td>29523.000000</td>\n",
              "      <td>29523.000000</td>\n",
              "      <td>2.952300e+04</td>\n",
              "      <td>29523.000000</td>\n",
              "    </tr>\n",
              "    <tr>\n",
              "      <th>mean</th>\n",
              "      <td>118.601836</td>\n",
              "      <td>2005.806050</td>\n",
              "      <td>2.622119e+06</td>\n",
              "      <td>8.492111</td>\n",
              "      <td>208.649031</td>\n",
              "      <td>9.175704e+02</td>\n",
              "      <td>19.304354</td>\n",
              "    </tr>\n",
              "    <tr>\n",
              "      <th>std</th>\n",
              "      <td>74.178353</td>\n",
              "      <td>7.025483</td>\n",
              "      <td>9.118004e+06</td>\n",
              "      <td>10.600220</td>\n",
              "      <td>2854.490090</td>\n",
              "      <td>6.877593e+04</td>\n",
              "      <td>2091.540939</td>\n",
              "    </tr>\n",
              "    <tr>\n",
              "      <th>min</th>\n",
              "      <td>1.000000</td>\n",
              "      <td>1994.000000</td>\n",
              "      <td>1.000000e+00</td>\n",
              "      <td>0.000001</td>\n",
              "      <td>-276.080000</td>\n",
              "      <td>-8.749370e+02</td>\n",
              "      <td>-41.501000</td>\n",
              "    </tr>\n",
              "    <tr>\n",
              "      <th>25%</th>\n",
              "      <td>55.000000</td>\n",
              "      <td>2000.000000</td>\n",
              "      <td>1.381700e+04</td>\n",
              "      <td>1.024000</td>\n",
              "      <td>5.207000</td>\n",
              "      <td>3.778500e+00</td>\n",
              "      <td>1.940000</td>\n",
              "    </tr>\n",
              "    <tr>\n",
              "      <th>50%</th>\n",
              "      <td>122.000000</td>\n",
              "      <td>2006.000000</td>\n",
              "      <td>2.533220e+05</td>\n",
              "      <td>5.762694</td>\n",
              "      <td>26.000000</td>\n",
              "      <td>1.737100e+01</td>\n",
              "      <td>4.127000</td>\n",
              "    </tr>\n",
              "    <tr>\n",
              "      <th>75%</th>\n",
              "      <td>176.000000</td>\n",
              "      <td>2012.000000</td>\n",
              "      <td>1.424034e+06</td>\n",
              "      <td>17.006000</td>\n",
              "      <td>47.113000</td>\n",
              "      <td>4.213700e+01</td>\n",
              "      <td>7.745000</td>\n",
              "    </tr>\n",
              "    <tr>\n",
              "      <th>max</th>\n",
              "      <td>514.000000</td>\n",
              "      <td>2018.000000</td>\n",
              "      <td>5.558942e+08</td>\n",
              "      <td>341.260000</td>\n",
              "      <td>139358.000000</td>\n",
              "      <td>7.964521e+06</td>\n",
              "      <td>359278.000000</td>\n",
              "    </tr>\n",
              "  </tbody>\n",
              "</table>\n",
              "</div>"
            ],
            "text/plain": [
              "       utility_id_ferc1  ...  fuel_cost_per_mmbtu\n",
              "count      29523.000000  ...         29523.000000\n",
              "mean         118.601836  ...            19.304354\n",
              "std           74.178353  ...          2091.540939\n",
              "min            1.000000  ...           -41.501000\n",
              "25%           55.000000  ...             1.940000\n",
              "50%          122.000000  ...             4.127000\n",
              "75%          176.000000  ...             7.745000\n",
              "max          514.000000  ...        359278.000000\n",
              "\n",
              "[8 rows x 7 columns]"
            ]
          },
          "metadata": {},
          "execution_count": 27
        }
      ]
    },
    {
      "cell_type": "code",
      "metadata": {
        "colab": {
          "base_uri": "https://localhost:8080/",
          "height": 410
        },
        "id": "7hb9RAqjZdXe",
        "outputId": "5a49ff55-7216-4f78-ace6-bec1e9e68c98"
      },
      "source": [
        "fuel_data.describe(include='all')"
      ],
      "execution_count": null,
      "outputs": [
        {
          "output_type": "execute_result",
          "data": {
            "text/html": [
              "<div>\n",
              "<style scoped>\n",
              "    .dataframe tbody tr th:only-of-type {\n",
              "        vertical-align: middle;\n",
              "    }\n",
              "\n",
              "    .dataframe tbody tr th {\n",
              "        vertical-align: top;\n",
              "    }\n",
              "\n",
              "    .dataframe thead th {\n",
              "        text-align: right;\n",
              "    }\n",
              "</style>\n",
              "<table border=\"1\" class=\"dataframe\">\n",
              "  <thead>\n",
              "    <tr style=\"text-align: right;\">\n",
              "      <th></th>\n",
              "      <th>record_id</th>\n",
              "      <th>utility_id_ferc1</th>\n",
              "      <th>report_year</th>\n",
              "      <th>plant_name_ferc1</th>\n",
              "      <th>fuel_type_code_pudl</th>\n",
              "      <th>fuel_unit</th>\n",
              "      <th>fuel_qty_burned</th>\n",
              "      <th>fuel_mmbtu_per_unit</th>\n",
              "      <th>fuel_cost_per_unit_burned</th>\n",
              "      <th>fuel_cost_per_unit_delivered</th>\n",
              "      <th>fuel_cost_per_mmbtu</th>\n",
              "    </tr>\n",
              "  </thead>\n",
              "  <tbody>\n",
              "    <tr>\n",
              "      <th>count</th>\n",
              "      <td>29523</td>\n",
              "      <td>29523.000000</td>\n",
              "      <td>29523.000000</td>\n",
              "      <td>29523</td>\n",
              "      <td>29523</td>\n",
              "      <td>29343</td>\n",
              "      <td>2.952300e+04</td>\n",
              "      <td>29523.000000</td>\n",
              "      <td>29523.000000</td>\n",
              "      <td>2.952300e+04</td>\n",
              "      <td>29523.000000</td>\n",
              "    </tr>\n",
              "    <tr>\n",
              "      <th>unique</th>\n",
              "      <td>29523</td>\n",
              "      <td>NaN</td>\n",
              "      <td>NaN</td>\n",
              "      <td>2315</td>\n",
              "      <td>6</td>\n",
              "      <td>9</td>\n",
              "      <td>NaN</td>\n",
              "      <td>NaN</td>\n",
              "      <td>NaN</td>\n",
              "      <td>NaN</td>\n",
              "      <td>NaN</td>\n",
              "    </tr>\n",
              "    <tr>\n",
              "      <th>top</th>\n",
              "      <td>f1_fuel_2014_12_45_0_14</td>\n",
              "      <td>NaN</td>\n",
              "      <td>NaN</td>\n",
              "      <td>big stone</td>\n",
              "      <td>gas</td>\n",
              "      <td>mcf</td>\n",
              "      <td>NaN</td>\n",
              "      <td>NaN</td>\n",
              "      <td>NaN</td>\n",
              "      <td>NaN</td>\n",
              "      <td>NaN</td>\n",
              "    </tr>\n",
              "    <tr>\n",
              "      <th>freq</th>\n",
              "      <td>1</td>\n",
              "      <td>NaN</td>\n",
              "      <td>NaN</td>\n",
              "      <td>156</td>\n",
              "      <td>11486</td>\n",
              "      <td>11354</td>\n",
              "      <td>NaN</td>\n",
              "      <td>NaN</td>\n",
              "      <td>NaN</td>\n",
              "      <td>NaN</td>\n",
              "      <td>NaN</td>\n",
              "    </tr>\n",
              "    <tr>\n",
              "      <th>mean</th>\n",
              "      <td>NaN</td>\n",
              "      <td>118.601836</td>\n",
              "      <td>2005.806050</td>\n",
              "      <td>NaN</td>\n",
              "      <td>NaN</td>\n",
              "      <td>NaN</td>\n",
              "      <td>2.622119e+06</td>\n",
              "      <td>8.492111</td>\n",
              "      <td>208.649031</td>\n",
              "      <td>9.175704e+02</td>\n",
              "      <td>19.304354</td>\n",
              "    </tr>\n",
              "    <tr>\n",
              "      <th>std</th>\n",
              "      <td>NaN</td>\n",
              "      <td>74.178353</td>\n",
              "      <td>7.025483</td>\n",
              "      <td>NaN</td>\n",
              "      <td>NaN</td>\n",
              "      <td>NaN</td>\n",
              "      <td>9.118004e+06</td>\n",
              "      <td>10.600220</td>\n",
              "      <td>2854.490090</td>\n",
              "      <td>6.877593e+04</td>\n",
              "      <td>2091.540939</td>\n",
              "    </tr>\n",
              "    <tr>\n",
              "      <th>min</th>\n",
              "      <td>NaN</td>\n",
              "      <td>1.000000</td>\n",
              "      <td>1994.000000</td>\n",
              "      <td>NaN</td>\n",
              "      <td>NaN</td>\n",
              "      <td>NaN</td>\n",
              "      <td>1.000000e+00</td>\n",
              "      <td>0.000001</td>\n",
              "      <td>-276.080000</td>\n",
              "      <td>-8.749370e+02</td>\n",
              "      <td>-41.501000</td>\n",
              "    </tr>\n",
              "    <tr>\n",
              "      <th>25%</th>\n",
              "      <td>NaN</td>\n",
              "      <td>55.000000</td>\n",
              "      <td>2000.000000</td>\n",
              "      <td>NaN</td>\n",
              "      <td>NaN</td>\n",
              "      <td>NaN</td>\n",
              "      <td>1.381700e+04</td>\n",
              "      <td>1.024000</td>\n",
              "      <td>5.207000</td>\n",
              "      <td>3.778500e+00</td>\n",
              "      <td>1.940000</td>\n",
              "    </tr>\n",
              "    <tr>\n",
              "      <th>50%</th>\n",
              "      <td>NaN</td>\n",
              "      <td>122.000000</td>\n",
              "      <td>2006.000000</td>\n",
              "      <td>NaN</td>\n",
              "      <td>NaN</td>\n",
              "      <td>NaN</td>\n",
              "      <td>2.533220e+05</td>\n",
              "      <td>5.762694</td>\n",
              "      <td>26.000000</td>\n",
              "      <td>1.737100e+01</td>\n",
              "      <td>4.127000</td>\n",
              "    </tr>\n",
              "    <tr>\n",
              "      <th>75%</th>\n",
              "      <td>NaN</td>\n",
              "      <td>176.000000</td>\n",
              "      <td>2012.000000</td>\n",
              "      <td>NaN</td>\n",
              "      <td>NaN</td>\n",
              "      <td>NaN</td>\n",
              "      <td>1.424034e+06</td>\n",
              "      <td>17.006000</td>\n",
              "      <td>47.113000</td>\n",
              "      <td>4.213700e+01</td>\n",
              "      <td>7.745000</td>\n",
              "    </tr>\n",
              "    <tr>\n",
              "      <th>max</th>\n",
              "      <td>NaN</td>\n",
              "      <td>514.000000</td>\n",
              "      <td>2018.000000</td>\n",
              "      <td>NaN</td>\n",
              "      <td>NaN</td>\n",
              "      <td>NaN</td>\n",
              "      <td>5.558942e+08</td>\n",
              "      <td>341.260000</td>\n",
              "      <td>139358.000000</td>\n",
              "      <td>7.964521e+06</td>\n",
              "      <td>359278.000000</td>\n",
              "    </tr>\n",
              "  </tbody>\n",
              "</table>\n",
              "</div>"
            ],
            "text/plain": [
              "                      record_id  ...  fuel_cost_per_mmbtu\n",
              "count                     29523  ...         29523.000000\n",
              "unique                    29523  ...                  NaN\n",
              "top     f1_fuel_2014_12_45_0_14  ...                  NaN\n",
              "freq                          1  ...                  NaN\n",
              "mean                        NaN  ...            19.304354\n",
              "std                         NaN  ...          2091.540939\n",
              "min                         NaN  ...           -41.501000\n",
              "25%                         NaN  ...             1.940000\n",
              "50%                         NaN  ...             4.127000\n",
              "75%                         NaN  ...             7.745000\n",
              "max                         NaN  ...        359278.000000\n",
              "\n",
              "[11 rows x 11 columns]"
            ]
          },
          "metadata": {},
          "execution_count": 28
        }
      ]
    },
    {
      "cell_type": "code",
      "metadata": {
        "colab": {
          "base_uri": "https://localhost:8080/"
        },
        "id": "UCcaKczvZnI0",
        "outputId": "ddd37b03-2427-4671-9703-f9a1cd0ba472"
      },
      "source": [
        "fuel_data.isnull().sum()"
      ],
      "execution_count": null,
      "outputs": [
        {
          "output_type": "execute_result",
          "data": {
            "text/plain": [
              "record_id                         0\n",
              "utility_id_ferc1                  0\n",
              "report_year                       0\n",
              "plant_name_ferc1                  0\n",
              "fuel_type_code_pudl               0\n",
              "fuel_unit                       180\n",
              "fuel_qty_burned                   0\n",
              "fuel_mmbtu_per_unit               0\n",
              "fuel_cost_per_unit_burned         0\n",
              "fuel_cost_per_unit_delivered      0\n",
              "fuel_cost_per_mmbtu               0\n",
              "dtype: int64"
            ]
          },
          "metadata": {},
          "execution_count": 29
        }
      ]
    },
    {
      "cell_type": "code",
      "metadata": {
        "colab": {
          "base_uri": "https://localhost:8080/"
        },
        "id": "CP4ckmvWZ331",
        "outputId": "9ce960f4-4a64-4250-e368-0cf386a1ccd8"
      },
      "source": [
        "fuel_data.groupby('fuel_unit')['fuel_unit'].count()"
      ],
      "execution_count": null,
      "outputs": [
        {
          "output_type": "execute_result",
          "data": {
            "text/plain": [
              "fuel_unit\n",
              "bbl        7998\n",
              "gal          84\n",
              "gramsU      464\n",
              "kgU         110\n",
              "mcf       11354\n",
              "mmbtu       180\n",
              "mwdth        95\n",
              "mwhth       100\n",
              "ton        8958\n",
              "Name: fuel_unit, dtype: int64"
            ]
          },
          "metadata": {},
          "execution_count": 30
        }
      ]
    },
    {
      "cell_type": "code",
      "metadata": {
        "id": "eLLeLw8mGlKw"
      },
      "source": [
        "fuel_data[['fuel_unit']] = fuel_data[['fuel_unit']].fillna(value='mcf')"
      ],
      "execution_count": null,
      "outputs": []
    },
    {
      "cell_type": "code",
      "metadata": {
        "colab": {
          "base_uri": "https://localhost:8080/"
        },
        "id": "4O94iJBGHVJ9",
        "outputId": "c32e1128-f814-4f40-80b3-66c71febc33a"
      },
      "source": [
        "fuel_data.isnull().sum()"
      ],
      "execution_count": null,
      "outputs": [
        {
          "output_type": "execute_result",
          "data": {
            "text/plain": [
              "record_id                       0\n",
              "utility_id_ferc1                0\n",
              "report_year                     0\n",
              "plant_name_ferc1                0\n",
              "fuel_type_code_pudl             0\n",
              "fuel_unit                       0\n",
              "fuel_qty_burned                 0\n",
              "fuel_mmbtu_per_unit             0\n",
              "fuel_cost_per_unit_burned       0\n",
              "fuel_cost_per_unit_delivered    0\n",
              "fuel_cost_per_mmbtu             0\n",
              "dtype: int64"
            ]
          },
          "metadata": {},
          "execution_count": 32
        }
      ]
    },
    {
      "cell_type": "code",
      "metadata": {
        "id": "YI3nM4UkHbtL"
      },
      "source": [
        "fuel_df1 = fuel_data.iloc[0:19000].reset_index(drop=True)"
      ],
      "execution_count": null,
      "outputs": []
    },
    {
      "cell_type": "code",
      "metadata": {
        "id": "IuGZJGuUJwPQ"
      },
      "source": [
        "fuel_df2 = fuel_data.iloc[19000:].reset_index(drop=True)"
      ],
      "execution_count": null,
      "outputs": []
    },
    {
      "cell_type": "code",
      "metadata": {
        "colab": {
          "base_uri": "https://localhost:8080/"
        },
        "id": "knjdyn9gKFbA",
        "outputId": "71ce22d5-ee3d-4e76-9502-67066dea4e92"
      },
      "source": [
        "len(fuel_df1)"
      ],
      "execution_count": null,
      "outputs": [
        {
          "output_type": "execute_result",
          "data": {
            "text/plain": [
              "19000"
            ]
          },
          "metadata": {},
          "execution_count": 35
        }
      ]
    },
    {
      "cell_type": "code",
      "metadata": {
        "id": "2Ra4KyuMKL0s"
      },
      "source": [
        "assert len(fuel_data) == (len(fuel_df1) + len(fuel_df2))"
      ],
      "execution_count": null,
      "outputs": []
    },
    {
      "cell_type": "code",
      "metadata": {
        "colab": {
          "base_uri": "https://localhost:8080/"
        },
        "id": "kCW61ZzsKcCa",
        "outputId": "ecca4ce6-1e19-49be-d6fa-cf9531408cd8"
      },
      "source": [
        "len(fuel_data)"
      ],
      "execution_count": null,
      "outputs": [
        {
          "output_type": "execute_result",
          "data": {
            "text/plain": [
              "29523"
            ]
          },
          "metadata": {},
          "execution_count": 37
        }
      ]
    },
    {
      "cell_type": "code",
      "metadata": {
        "colab": {
          "base_uri": "https://localhost:8080/",
          "height": 69
        },
        "id": "bth4K7rhKnez",
        "outputId": "3ea89c1e-a87e-4162-966e-740c93afa33e"
      },
      "source": [
        "pd.merge(fuel_df1, fuel_df2, how='inner')"
      ],
      "execution_count": null,
      "outputs": [
        {
          "output_type": "execute_result",
          "data": {
            "text/html": [
              "<div>\n",
              "<style scoped>\n",
              "    .dataframe tbody tr th:only-of-type {\n",
              "        vertical-align: middle;\n",
              "    }\n",
              "\n",
              "    .dataframe tbody tr th {\n",
              "        vertical-align: top;\n",
              "    }\n",
              "\n",
              "    .dataframe thead th {\n",
              "        text-align: right;\n",
              "    }\n",
              "</style>\n",
              "<table border=\"1\" class=\"dataframe\">\n",
              "  <thead>\n",
              "    <tr style=\"text-align: right;\">\n",
              "      <th></th>\n",
              "      <th>record_id</th>\n",
              "      <th>utility_id_ferc1</th>\n",
              "      <th>report_year</th>\n",
              "      <th>plant_name_ferc1</th>\n",
              "      <th>fuel_type_code_pudl</th>\n",
              "      <th>fuel_unit</th>\n",
              "      <th>fuel_qty_burned</th>\n",
              "      <th>fuel_mmbtu_per_unit</th>\n",
              "      <th>fuel_cost_per_unit_burned</th>\n",
              "      <th>fuel_cost_per_unit_delivered</th>\n",
              "      <th>fuel_cost_per_mmbtu</th>\n",
              "    </tr>\n",
              "  </thead>\n",
              "  <tbody>\n",
              "  </tbody>\n",
              "</table>\n",
              "</div>"
            ],
            "text/plain": [
              "Empty DataFrame\n",
              "Columns: [record_id, utility_id_ferc1, report_year, plant_name_ferc1, fuel_type_code_pudl, fuel_unit, fuel_qty_burned, fuel_mmbtu_per_unit, fuel_cost_per_unit_burned, fuel_cost_per_unit_delivered, fuel_cost_per_mmbtu]\n",
              "Index: []"
            ]
          },
          "metadata": {},
          "execution_count": 38
        }
      ]
    },
    {
      "cell_type": "code",
      "metadata": {
        "colab": {
          "base_uri": "https://localhost:8080/"
        },
        "id": "q7NYMcwsO5Sl",
        "outputId": "05529650-bebd-40dd-e26e-3c81ac833b1e"
      },
      "source": [
        "fuel_data.duplicated().any()"
      ],
      "execution_count": null,
      "outputs": [
        {
          "output_type": "execute_result",
          "data": {
            "text/plain": [
              "False"
            ]
          },
          "metadata": {},
          "execution_count": 39
        }
      ]
    },
    {
      "cell_type": "code",
      "metadata": {
        "id": "mnehCtlEPPy-"
      },
      "source": [
        "import matplotlib.pyplot as plt\n",
        "import seaborn as sns"
      ],
      "execution_count": null,
      "outputs": []
    },
    {
      "cell_type": "code",
      "metadata": {
        "id": "SSAL5FqfhNaI"
      },
      "source": [
        "fuel_unit = pd.DataFrame({'unit':['BBL', 'GAL', 'GRAMSU', 'KGU', 'MCF', 'MMBTU', 'MWDTH', 'MWHTH', 'TON'],\n",
        "            'count':[7998, 84, 464, 110, 11354, 180, 95, 100, 8958]})"
      ],
      "execution_count": null,
      "outputs": []
    },
    {
      "cell_type": "code",
      "metadata": {
        "colab": {
          "base_uri": "https://localhost:8080/",
          "height": 296
        },
        "id": "O4IPC5zehGZx",
        "outputId": "a7b15b85-121a-4c47-fe46-393688f18f8b"
      },
      "source": [
        "sns.barplot(data=fuel_unit, x='unit', y='count')"
      ],
      "execution_count": null,
      "outputs": [
        {
          "output_type": "execute_result",
          "data": {
            "text/plain": [
              "<matplotlib.axes._subplots.AxesSubplot at 0x7f832f6d0d50>"
            ]
          },
          "metadata": {},
          "execution_count": 44
        },
        {
          "output_type": "display_data",
          "data": {
            "image/png": "[encoded data removed]",
            "text/plain": [
              "<Figure size 432x288 with 1 Axes>"
            ]
          },
          "metadata": {
            "needs_background": "light"
          }
        }
      ]
    },
    {
      "cell_type": "code",
      "metadata": {
        "colab": {
          "base_uri": "https://localhost:8080/",
          "height": 300
        },
        "id": "PqTPf_kahcts",
        "outputId": "e48d931f-b980-49c7-dfd8-d0384792a4ca"
      },
      "source": [
        "plt.xlabel('Fuel unit')"
      ],
      "execution_count": null,
      "outputs": [
        {
          "output_type": "execute_result",
          "data": {
            "text/plain": [
              "Text(0.5, 0, 'Fuel unit')"
            ]
          },
          "metadata": {},
          "execution_count": 45
        },
        {
          "output_type": "display_data",
          "data": {
            "image/png": "[encoded data removed]",
            "text/plain": [
              "<Figure size 432x288 with 1 Axes>"
            ]
          },
          "metadata": {
            "needs_background": "light"
          }
        }
      ]
    },
    {
      "cell_type": "code",
      "metadata": {
        "colab": {
          "base_uri": "https://localhost:8080/",
          "height": 279
        },
        "id": "tAclugkrhnDz",
        "outputId": "8151eb74-b5e4-4c29-b385-8fe9d09fe623"
      },
      "source": [
        "g = sns.barplot(data=fuel_unit, x='unit', y='count')"
      ],
      "execution_count": null,
      "outputs": [
        {
          "output_type": "display_data",
          "data": {
            "image/png": "[encoded data removed]",
            "text/plain": [
              "<Figure size 432x288 with 1 Axes>"
            ]
          },
          "metadata": {
            "needs_background": "light"
          }
        }
      ]
    },
    {
      "cell_type": "code",
      "metadata": {
        "id": "KCDijvIqiCqL"
      },
      "source": [
        "g.set_yscale(\"log\")"
      ],
      "execution_count": null,
      "outputs": []
    },
    {
      "cell_type": "code",
      "metadata": {
        "colab": {
          "base_uri": "https://localhost:8080/"
        },
        "id": "87mSqqwdieCt",
        "outputId": "c0b17307-0b93-44ca-a445-83b1f20b4173"
      },
      "source": [
        "g.set_ylim(1, 12000)"
      ],
      "execution_count": null,
      "outputs": [
        {
          "output_type": "execute_result",
          "data": {
            "text/plain": [
              "(1, 12000)"
            ]
          },
          "metadata": {},
          "execution_count": 49
        }
      ]
    },
    {
      "cell_type": "code",
      "metadata": {
        "colab": {
          "base_uri": "https://localhost:8080/"
        },
        "id": "VTvJJQkajCPh",
        "outputId": "30c22af1-3790-4366-88cd-db37bd725a60"
      },
      "source": [
        "plt"
      ],
      "execution_count": null,
      "outputs": [
        {
          "output_type": "execute_result",
          "data": {
            "text/plain": [
              "<module 'matplotlib.pyplot' from '/usr/local/lib/python3.7/dist-packages/matplotlib/pyplot.py'>"
            ]
          },
          "metadata": {},
          "execution_count": 50
        }
      ]
    },
    {
      "cell_type": "code",
      "metadata": {
        "colab": {
          "base_uri": "https://localhost:8080/",
          "height": 300
        },
        "id": "jNn7Se_jjGjD",
        "outputId": "6ae60795-63ba-4a52-edf1-46eb0e02a25d"
      },
      "source": [
        "plt.xlabel('Fuel unit')"
      ],
      "execution_count": null,
      "outputs": [
        {
          "output_type": "execute_result",
          "data": {
            "text/plain": [
              "Text(0.5, 0, 'Fuel unit')"
            ]
          },
          "metadata": {},
          "execution_count": 52
        },
        {
          "output_type": "display_data",
          "data": {
            "image/png": "[encoded data removed]",
            "text/plain": [
              "<Figure size 432x288 with 1 Axes>"
            ]
          },
          "metadata": {
            "needs_background": "light"
          }
        }
      ]
    },
    {
      "cell_type": "code",
      "metadata": {
        "colab": {
          "base_uri": "https://localhost:8080/",
          "height": 298
        },
        "id": "7sPI4aivjKhn",
        "outputId": "910c62f7-0e24-4dc3-b046-236354d0e214"
      },
      "source": [
        "g = sns.barplot(data=fuel_unit, x='unit', y='count')\n",
        "g.set_yscale(\"log\")\n",
        "g.set_ylim(1, 12000)\n",
        "plt.xlabel('Fuel Unit')"
      ],
      "execution_count": null,
      "outputs": [
        {
          "output_type": "execute_result",
          "data": {
            "text/plain": [
              "Text(0.5, 0, 'Fuel Unit')"
            ]
          },
          "metadata": {},
          "execution_count": 53
        },
        {
          "output_type": "display_data",
          "data": {
            "image/png": "[encoded data removed]",
            "text/plain": [
              "<Figure size 432x288 with 1 Axes>"
            ]
          },
          "metadata": {
            "needs_background": "light"
          }
        }
      ]
    },
    {
      "cell_type": "code",
      "metadata": {
        "id": "41c560_xjcaV"
      },
      "source": [
        "sample_df = fuel_data.sample(n=50, random_state=4)"
      ],
      "execution_count": null,
      "outputs": []
    },
    {
      "cell_type": "code",
      "metadata": {
        "colab": {
          "base_uri": "https://localhost:8080/",
          "height": 297
        },
        "id": "M-LaOuTmlJzt",
        "outputId": "01ed9e5f-6768-4d8b-c32c-368d7a6e4289"
      },
      "source": [
        "sns.regplot(x=sample_df[\"utility_id_ferc1\"], y=sample_df[\"fuel_cost_per_mmbtu\"], fit_reg=False)"
      ],
      "execution_count": null,
      "outputs": [
        {
          "output_type": "execute_result",
          "data": {
            "text/plain": [
              "<matplotlib.axes._subplots.AxesSubplot at 0x7f831eab7c50>"
            ]
          },
          "metadata": {},
          "execution_count": 55
        },
        {
          "output_type": "display_data",
          "data": {
            "image/png": "[encoded data removed]",
            "text/plain": [
              "<Figure size 432x288 with 1 Axes>"
            ]
          },
          "metadata": {
            "needs_background": "light"
          }
        }
      ]
    },
    {
      "cell_type": "code",
      "metadata": {
        "colab": {
          "base_uri": "https://localhost:8080/",
          "height": 297
        },
        "id": "57PXHtmmlVVC",
        "outputId": "a7e9c138-123d-40bc-8e90-5f824dbffe52"
      },
      "source": [
        "sns.boxplot(x=\"fuel_type_code_pudl\", y=\"utility_id_ferc1\",\n",
        "            palette=[\"m\", \"g\"], data=fuel_data)"
      ],
      "execution_count": null,
      "outputs": [
        {
          "output_type": "execute_result",
          "data": {
            "text/plain": [
              "<matplotlib.axes._subplots.AxesSubplot at 0x7f831e9e2790>"
            ]
          },
          "metadata": {},
          "execution_count": 56
        },
        {
          "output_type": "display_data",
          "data": {
            "image/png": "[encoded data removed]",
            "text/plain": [
              "<Figure size 432x288 with 1 Axes>"
            ]
          },
          "metadata": {
            "needs_background": "light"
          }
        }
      ]
    },
    {
      "cell_type": "code",
      "metadata": {
        "colab": {
          "base_uri": "https://localhost:8080/",
          "height": 297
        },
        "id": "9km9p4qflcGe",
        "outputId": "76a96776-12ec-4b4b-cae4-529ae99b88c5"
      },
      "source": [
        "sns.kdeplot(sample_df['fuel_cost_per_unit_burned'], shade=True, color=\"b\")\n"
      ],
      "execution_count": null,
      "outputs": [
        {
          "output_type": "execute_result",
          "data": {
            "text/plain": [
              "<matplotlib.axes._subplots.AxesSubplot at 0x7f831c884b50>"
            ]
          },
          "metadata": {},
          "execution_count": 58
        },
        {
          "output_type": "display_data",
          "data": {
            "image/png": "[encoded data removed]",
            "text/plain": [
              "<Figure size 432x288 with 1 Axes>"
            ]
          },
          "metadata": {
            "needs_background": "light"
          }
        }
      ]
    },
    {
      "cell_type": "code",
      "metadata": {
        "colab": {
          "base_uri": "https://localhost:8080/",
          "height": 297
        },
        "id": "IlgJfvHElnZ_",
        "outputId": "54632a15-b79e-45a9-ec53-85214ea4f3dd"
      },
      "source": [
        "sns.boxplot(x=\"fuel_type_code_pudl\", y=\"utility_id_ferc1\",\n",
        "            palette=[\"m\", \"g\"], data=fuel_data)"
      ],
      "execution_count": null,
      "outputs": [
        {
          "output_type": "execute_result",
          "data": {
            "text/plain": [
              "<matplotlib.axes._subplots.AxesSubplot at 0x7f831e8d8890>"
            ]
          },
          "metadata": {},
          "execution_count": 59
        },
        {
          "output_type": "display_data",
          "data": {
            "image/png": "[encoded data removed]",
            "text/plain": [
              "<Figure size 432x288 with 1 Axes>"
            ]
          },
          "metadata": {
            "needs_background": "light"
          }
        }
      ]
    },
    {
      "cell_type": "code",
      "metadata": {
        "colab": {
          "base_uri": "https://localhost:8080/",
          "height": 224
        },
        "id": "xiz7BDM0wp-0",
        "outputId": "57964436-aef0-48e1-b3b7-6ac0df429386"
      },
      "source": [
        "fuel_data.head()"
      ],
      "execution_count": null,
      "outputs": [
        {
          "output_type": "execute_result",
          "data": {
            "text/html": [
              "<div>\n",
              "<style scoped>\n",
              "    .dataframe tbody tr th:only-of-type {\n",
              "        vertical-align: middle;\n",
              "    }\n",
              "\n",
              "    .dataframe tbody tr th {\n",
              "        vertical-align: top;\n",
              "    }\n",
              "\n",
              "    .dataframe thead th {\n",
              "        text-align: right;\n",
              "    }\n",
              "</style>\n",
              "<table border=\"1\" class=\"dataframe\">\n",
              "  <thead>\n",
              "    <tr style=\"text-align: right;\">\n",
              "      <th></th>\n",
              "      <th>record_id</th>\n",
              "      <th>utility_id_ferc1</th>\n",
              "      <th>report_year</th>\n",
              "      <th>plant_name_ferc1</th>\n",
              "      <th>fuel_type_code_pudl</th>\n",
              "      <th>fuel_unit</th>\n",
              "      <th>fuel_qty_burned</th>\n",
              "      <th>fuel_mmbtu_per_unit</th>\n",
              "      <th>fuel_cost_per_unit_burned</th>\n",
              "      <th>fuel_cost_per_unit_delivered</th>\n",
              "      <th>fuel_cost_per_mmbtu</th>\n",
              "    </tr>\n",
              "  </thead>\n",
              "  <tbody>\n",
              "    <tr>\n",
              "      <th>0</th>\n",
              "      <td>f1_fuel_1994_12_1_0_7</td>\n",
              "      <td>1</td>\n",
              "      <td>1994</td>\n",
              "      <td>rockport</td>\n",
              "      <td>coal</td>\n",
              "      <td>ton</td>\n",
              "      <td>5377489.0</td>\n",
              "      <td>16.590</td>\n",
              "      <td>18.59</td>\n",
              "      <td>18.53</td>\n",
              "      <td>1.121</td>\n",
              "    </tr>\n",
              "    <tr>\n",
              "      <th>1</th>\n",
              "      <td>f1_fuel_1994_12_1_0_10</td>\n",
              "      <td>1</td>\n",
              "      <td>1994</td>\n",
              "      <td>rockport total plant</td>\n",
              "      <td>coal</td>\n",
              "      <td>ton</td>\n",
              "      <td>10486945.0</td>\n",
              "      <td>16.592</td>\n",
              "      <td>18.58</td>\n",
              "      <td>18.53</td>\n",
              "      <td>1.120</td>\n",
              "    </tr>\n",
              "    <tr>\n",
              "      <th>2</th>\n",
              "      <td>f1_fuel_1994_12_2_0_1</td>\n",
              "      <td>2</td>\n",
              "      <td>1994</td>\n",
              "      <td>gorgas</td>\n",
              "      <td>coal</td>\n",
              "      <td>ton</td>\n",
              "      <td>2978683.0</td>\n",
              "      <td>24.130</td>\n",
              "      <td>39.72</td>\n",
              "      <td>38.12</td>\n",
              "      <td>1.650</td>\n",
              "    </tr>\n",
              "    <tr>\n",
              "      <th>3</th>\n",
              "      <td>f1_fuel_1994_12_2_0_7</td>\n",
              "      <td>2</td>\n",
              "      <td>1994</td>\n",
              "      <td>barry</td>\n",
              "      <td>coal</td>\n",
              "      <td>ton</td>\n",
              "      <td>3739484.0</td>\n",
              "      <td>23.950</td>\n",
              "      <td>47.21</td>\n",
              "      <td>45.99</td>\n",
              "      <td>1.970</td>\n",
              "    </tr>\n",
              "    <tr>\n",
              "      <th>4</th>\n",
              "      <td>f1_fuel_1994_12_2_0_10</td>\n",
              "      <td>2</td>\n",
              "      <td>1994</td>\n",
              "      <td>chickasaw</td>\n",
              "      <td>gas</td>\n",
              "      <td>mcf</td>\n",
              "      <td>40533.0</td>\n",
              "      <td>1.000</td>\n",
              "      <td>2.77</td>\n",
              "      <td>2.77</td>\n",
              "      <td>2.570</td>\n",
              "    </tr>\n",
              "  </tbody>\n",
              "</table>\n",
              "</div>"
            ],
            "text/plain": [
              "                record_id  ...  fuel_cost_per_mmbtu\n",
              "0   f1_fuel_1994_12_1_0_7  ...                1.121\n",
              "1  f1_fuel_1994_12_1_0_10  ...                1.120\n",
              "2   f1_fuel_1994_12_2_0_1  ...                1.650\n",
              "3   f1_fuel_1994_12_2_0_7  ...                1.970\n",
              "4  f1_fuel_1994_12_2_0_10  ...                2.570\n",
              "\n",
              "[5 rows x 11 columns]"
            ]
          },
          "metadata": {},
          "execution_count": 60
        }
      ]
    },
    {
      "cell_type": "code",
      "metadata": {
        "colab": {
          "base_uri": "https://localhost:8080/"
        },
        "id": "W2FofWTOKg8d",
        "outputId": "e503ee34-36b1-4201-c3e0-57248b64630f"
      },
      "source": [
        "fuel_data['fuel_type_code_pudl']"
      ],
      "execution_count": null,
      "outputs": [
        {
          "output_type": "execute_result",
          "data": {
            "text/plain": [
              "0        coal\n",
              "1        coal\n",
              "2        coal\n",
              "3        coal\n",
              "4         gas\n",
              "         ... \n",
              "29518     gas\n",
              "29519     gas\n",
              "29520     gas\n",
              "29521    coal\n",
              "29522     gas\n",
              "Name: fuel_type_code_pudl, Length: 29523, dtype: object"
            ]
          },
          "metadata": {},
          "execution_count": 63
        }
      ]
    },
    {
      "cell_type": "code",
      "metadata": {
        "id": "RTSvmWgsKmu4"
      },
      "source": [
        "fuel_type = fuel_data.groupby('fuel_type_code_pudl')"
      ],
      "execution_count": null,
      "outputs": []
    },
    {
      "cell_type": "code",
      "metadata": {
        "colab": {
          "base_uri": "https://localhost:8080/",
          "height": 286
        },
        "id": "jZmMBhtUO-Aa",
        "outputId": "5d0ce35a-d109-40a6-bda2-b49399fc4140"
      },
      "source": [
        "fuel_type.mean()"
      ],
      "execution_count": null,
      "outputs": [
        {
          "output_type": "execute_result",
          "data": {
            "text/html": [
              "<div>\n",
              "<style scoped>\n",
              "    .dataframe tbody tr th:only-of-type {\n",
              "        vertical-align: middle;\n",
              "    }\n",
              "\n",
              "    .dataframe tbody tr th {\n",
              "        vertical-align: top;\n",
              "    }\n",
              "\n",
              "    .dataframe thead th {\n",
              "        text-align: right;\n",
              "    }\n",
              "</style>\n",
              "<table border=\"1\" class=\"dataframe\">\n",
              "  <thead>\n",
              "    <tr style=\"text-align: right;\">\n",
              "      <th></th>\n",
              "      <th>utility_id_ferc1</th>\n",
              "      <th>report_year</th>\n",
              "      <th>fuel_qty_burned</th>\n",
              "      <th>fuel_mmbtu_per_unit</th>\n",
              "      <th>fuel_cost_per_unit_burned</th>\n",
              "      <th>fuel_cost_per_unit_delivered</th>\n",
              "      <th>fuel_cost_per_mmbtu</th>\n",
              "    </tr>\n",
              "    <tr>\n",
              "      <th>fuel_type_code_pudl</th>\n",
              "      <th></th>\n",
              "      <th></th>\n",
              "      <th></th>\n",
              "      <th></th>\n",
              "      <th></th>\n",
              "      <th></th>\n",
              "      <th></th>\n",
              "    </tr>\n",
              "  </thead>\n",
              "  <tbody>\n",
              "    <tr>\n",
              "      <th>coal</th>\n",
              "      <td>115.637534</td>\n",
              "      <td>2004.623143</td>\n",
              "      <td>1.903473e+06</td>\n",
              "      <td>20.762780</td>\n",
              "      <td>67.421830</td>\n",
              "      <td>116.951141</td>\n",
              "      <td>1.787190</td>\n",
              "    </tr>\n",
              "    <tr>\n",
              "      <th>gas</th>\n",
              "      <td>124.122062</td>\n",
              "      <td>2005.978060</td>\n",
              "      <td>4.843183e+06</td>\n",
              "      <td>1.021913</td>\n",
              "      <td>13.659397</td>\n",
              "      <td>12.095172</td>\n",
              "      <td>5.408876</td>\n",
              "    </tr>\n",
              "    <tr>\n",
              "      <th>nuclear</th>\n",
              "      <td>107.397311</td>\n",
              "      <td>2002.970660</td>\n",
              "      <td>5.454838e+06</td>\n",
              "      <td>17.582120</td>\n",
              "      <td>4955.157002</td>\n",
              "      <td>28616.915039</td>\n",
              "      <td>1.716559</td>\n",
              "    </tr>\n",
              "    <tr>\n",
              "      <th>oil</th>\n",
              "      <td>113.236235</td>\n",
              "      <td>2007.195933</td>\n",
              "      <td>6.311677e+04</td>\n",
              "      <td>5.814377</td>\n",
              "      <td>168.877086</td>\n",
              "      <td>313.907691</td>\n",
              "      <td>12.698732</td>\n",
              "    </tr>\n",
              "    <tr>\n",
              "      <th>other</th>\n",
              "      <td>110.467066</td>\n",
              "      <td>2001.700599</td>\n",
              "      <td>2.948137e+06</td>\n",
              "      <td>0.572752</td>\n",
              "      <td>18.253856</td>\n",
              "      <td>16.871485</td>\n",
              "      <td>155.084910</td>\n",
              "    </tr>\n",
              "    <tr>\n",
              "      <th>waste</th>\n",
              "      <td>154.253968</td>\n",
              "      <td>2005.650794</td>\n",
              "      <td>1.171914e+05</td>\n",
              "      <td>0.341163</td>\n",
              "      <td>19.518122</td>\n",
              "      <td>18.413052</td>\n",
              "      <td>822.709937</td>\n",
              "    </tr>\n",
              "  </tbody>\n",
              "</table>\n",
              "</div>"
            ],
            "text/plain": [
              "                     utility_id_ferc1  ...  fuel_cost_per_mmbtu\n",
              "fuel_type_code_pudl                    ...                     \n",
              "coal                       115.637534  ...             1.787190\n",
              "gas                        124.122062  ...             5.408876\n",
              "nuclear                    107.397311  ...             1.716559\n",
              "oil                        113.236235  ...            12.698732\n",
              "other                      110.467066  ...           155.084910\n",
              "waste                      154.253968  ...           822.709937\n",
              "\n",
              "[6 rows x 7 columns]"
            ]
          },
          "metadata": {},
          "execution_count": 76
        }
      ]
    },
    {
      "cell_type": "code",
      "metadata": {
        "colab": {
          "base_uri": "https://localhost:8080/",
          "height": 317
        },
        "id": "AaeqK4LzK3hi",
        "outputId": "0d00d828-1cbc-49ed-a5db-2e8a35ac677a"
      },
      "source": [
        "fuel_data.describe()"
      ],
      "execution_count": null,
      "outputs": [
        {
          "output_type": "execute_result",
          "data": {
            "text/html": [
              "<div>\n",
              "<style scoped>\n",
              "    .dataframe tbody tr th:only-of-type {\n",
              "        vertical-align: middle;\n",
              "    }\n",
              "\n",
              "    .dataframe tbody tr th {\n",
              "        vertical-align: top;\n",
              "    }\n",
              "\n",
              "    .dataframe thead th {\n",
              "        text-align: right;\n",
              "    }\n",
              "</style>\n",
              "<table border=\"1\" class=\"dataframe\">\n",
              "  <thead>\n",
              "    <tr style=\"text-align: right;\">\n",
              "      <th></th>\n",
              "      <th>utility_id_ferc1</th>\n",
              "      <th>report_year</th>\n",
              "      <th>fuel_qty_burned</th>\n",
              "      <th>fuel_mmbtu_per_unit</th>\n",
              "      <th>fuel_cost_per_unit_burned</th>\n",
              "      <th>fuel_cost_per_unit_delivered</th>\n",
              "      <th>fuel_cost_per_mmbtu</th>\n",
              "    </tr>\n",
              "  </thead>\n",
              "  <tbody>\n",
              "    <tr>\n",
              "      <th>count</th>\n",
              "      <td>29523.000000</td>\n",
              "      <td>29523.000000</td>\n",
              "      <td>2.952300e+04</td>\n",
              "      <td>29523.000000</td>\n",
              "      <td>29523.000000</td>\n",
              "      <td>2.952300e+04</td>\n",
              "      <td>29523.000000</td>\n",
              "    </tr>\n",
              "    <tr>\n",
              "      <th>mean</th>\n",
              "      <td>118.601836</td>\n",
              "      <td>2005.806050</td>\n",
              "      <td>2.622119e+06</td>\n",
              "      <td>8.492111</td>\n",
              "      <td>208.649031</td>\n",
              "      <td>9.175704e+02</td>\n",
              "      <td>19.304354</td>\n",
              "    </tr>\n",
              "    <tr>\n",
              "      <th>std</th>\n",
              "      <td>74.178353</td>\n",
              "      <td>7.025483</td>\n",
              "      <td>9.118004e+06</td>\n",
              "      <td>10.600220</td>\n",
              "      <td>2854.490090</td>\n",
              "      <td>6.877593e+04</td>\n",
              "      <td>2091.540939</td>\n",
              "    </tr>\n",
              "    <tr>\n",
              "      <th>min</th>\n",
              "      <td>1.000000</td>\n",
              "      <td>1994.000000</td>\n",
              "      <td>1.000000e+00</td>\n",
              "      <td>0.000001</td>\n",
              "      <td>-276.080000</td>\n",
              "      <td>-8.749370e+02</td>\n",
              "      <td>-41.501000</td>\n",
              "    </tr>\n",
              "    <tr>\n",
              "      <th>25%</th>\n",
              "      <td>55.000000</td>\n",
              "      <td>2000.000000</td>\n",
              "      <td>1.381700e+04</td>\n",
              "      <td>1.024000</td>\n",
              "      <td>5.207000</td>\n",
              "      <td>3.778500e+00</td>\n",
              "      <td>1.940000</td>\n",
              "    </tr>\n",
              "    <tr>\n",
              "      <th>50%</th>\n",
              "      <td>122.000000</td>\n",
              "      <td>2006.000000</td>\n",
              "      <td>2.533220e+05</td>\n",
              "      <td>5.762694</td>\n",
              "      <td>26.000000</td>\n",
              "      <td>1.737100e+01</td>\n",
              "      <td>4.127000</td>\n",
              "    </tr>\n",
              "    <tr>\n",
              "      <th>75%</th>\n",
              "      <td>176.000000</td>\n",
              "      <td>2012.000000</td>\n",
              "      <td>1.424034e+06</td>\n",
              "      <td>17.006000</td>\n",
              "      <td>47.113000</td>\n",
              "      <td>4.213700e+01</td>\n",
              "      <td>7.745000</td>\n",
              "    </tr>\n",
              "    <tr>\n",
              "      <th>max</th>\n",
              "      <td>514.000000</td>\n",
              "      <td>2018.000000</td>\n",
              "      <td>5.558942e+08</td>\n",
              "      <td>341.260000</td>\n",
              "      <td>139358.000000</td>\n",
              "      <td>7.964521e+06</td>\n",
              "      <td>359278.000000</td>\n",
              "    </tr>\n",
              "  </tbody>\n",
              "</table>\n",
              "</div>"
            ],
            "text/plain": [
              "       utility_id_ferc1  ...  fuel_cost_per_mmbtu\n",
              "count      29523.000000  ...         29523.000000\n",
              "mean         118.601836  ...            19.304354\n",
              "std           74.178353  ...          2091.540939\n",
              "min            1.000000  ...           -41.501000\n",
              "25%           55.000000  ...             1.940000\n",
              "50%          122.000000  ...             4.127000\n",
              "75%          176.000000  ...             7.745000\n",
              "max          514.000000  ...        359278.000000\n",
              "\n",
              "[8 rows x 7 columns]"
            ]
          },
          "metadata": {},
          "execution_count": 66
        }
      ]
    },
    {
      "cell_type": "code",
      "metadata": {
        "colab": {
          "base_uri": "https://localhost:8080/"
        },
        "id": "RbNpOJmZLM-L",
        "outputId": "c1070f3a-831c-49bc-ddd7-2c8c95f1cad8"
      },
      "source": [
        "fuel_data['fuel_qty_burned'].skew()"
      ],
      "execution_count": null,
      "outputs": [
        {
          "output_type": "execute_result",
          "data": {
            "text/plain": [
              "15.851495469109503"
            ]
          },
          "metadata": {},
          "execution_count": 67
        }
      ]
    },
    {
      "cell_type": "code",
      "metadata": {
        "colab": {
          "base_uri": "https://localhost:8080/"
        },
        "id": "smXqkfe2Ltaw",
        "outputId": "6cabe107-e83d-41ac-e5b0-8a2c6d79e1a5"
      },
      "source": [
        "fuel_data['fuel_qty_burned'].kurtosis()"
      ],
      "execution_count": null,
      "outputs": [
        {
          "output_type": "execute_result",
          "data": {
            "text/plain": [
              "651.3694501337732"
            ]
          },
          "metadata": {},
          "execution_count": 68
        }
      ]
    },
    {
      "cell_type": "code",
      "metadata": {
        "id": "u44OHcy1L1NT"
      },
      "source": [
        "report_year = fuel_data.groupby('report_year')"
      ],
      "execution_count": null,
      "outputs": []
    },
    {
      "cell_type": "code",
      "metadata": {
        "colab": {
          "base_uri": "https://localhost:8080/",
          "height": 855
        },
        "id": "iqpXCyRYNwY-",
        "outputId": "ab940088-f403-478b-e443-f47ac213acf5"
      },
      "source": [
        "report_year.mean()"
      ],
      "execution_count": null,
      "outputs": [
        {
          "output_type": "execute_result",
          "data": {
            "text/html": [
              "<div>\n",
              "<style scoped>\n",
              "    .dataframe tbody tr th:only-of-type {\n",
              "        vertical-align: middle;\n",
              "    }\n",
              "\n",
              "    .dataframe tbody tr th {\n",
              "        vertical-align: top;\n",
              "    }\n",
              "\n",
              "    .dataframe thead th {\n",
              "        text-align: right;\n",
              "    }\n",
              "</style>\n",
              "<table border=\"1\" class=\"dataframe\">\n",
              "  <thead>\n",
              "    <tr style=\"text-align: right;\">\n",
              "      <th></th>\n",
              "      <th>utility_id_ferc1</th>\n",
              "      <th>fuel_qty_burned</th>\n",
              "      <th>fuel_mmbtu_per_unit</th>\n",
              "      <th>fuel_cost_per_unit_burned</th>\n",
              "      <th>fuel_cost_per_unit_delivered</th>\n",
              "      <th>fuel_cost_per_mmbtu</th>\n",
              "    </tr>\n",
              "    <tr>\n",
              "      <th>report_year</th>\n",
              "      <th></th>\n",
              "      <th></th>\n",
              "      <th></th>\n",
              "      <th></th>\n",
              "      <th></th>\n",
              "      <th></th>\n",
              "    </tr>\n",
              "  </thead>\n",
              "  <tbody>\n",
              "    <tr>\n",
              "      <th>1994</th>\n",
              "      <td>106.120648</td>\n",
              "      <td>2.724018e+06</td>\n",
              "      <td>10.638098</td>\n",
              "      <td>213.191996</td>\n",
              "      <td>63.636060</td>\n",
              "      <td>3.086977</td>\n",
              "    </tr>\n",
              "    <tr>\n",
              "      <th>1995</th>\n",
              "      <td>110.139051</td>\n",
              "      <td>3.712067e+06</td>\n",
              "      <td>10.644830</td>\n",
              "      <td>354.422555</td>\n",
              "      <td>32.735269</td>\n",
              "      <td>2.868838</td>\n",
              "    </tr>\n",
              "    <tr>\n",
              "      <th>1996</th>\n",
              "      <td>108.714154</td>\n",
              "      <td>2.544754e+06</td>\n",
              "      <td>10.778041</td>\n",
              "      <td>79.434995</td>\n",
              "      <td>9196.705948</td>\n",
              "      <td>2.695880</td>\n",
              "    </tr>\n",
              "    <tr>\n",
              "      <th>1997</th>\n",
              "      <td>108.366545</td>\n",
              "      <td>2.813503e+06</td>\n",
              "      <td>10.247632</td>\n",
              "      <td>149.482132</td>\n",
              "      <td>11140.197239</td>\n",
              "      <td>3.113486</td>\n",
              "    </tr>\n",
              "    <tr>\n",
              "      <th>1998</th>\n",
              "      <td>109.845528</td>\n",
              "      <td>3.267453e+06</td>\n",
              "      <td>10.704964</td>\n",
              "      <td>126.683519</td>\n",
              "      <td>287.154420</td>\n",
              "      <td>2.775862</td>\n",
              "    </tr>\n",
              "    <tr>\n",
              "      <th>1999</th>\n",
              "      <td>108.222857</td>\n",
              "      <td>3.281281e+06</td>\n",
              "      <td>10.558885</td>\n",
              "      <td>120.053605</td>\n",
              "      <td>25.551627</td>\n",
              "      <td>2.740251</td>\n",
              "    </tr>\n",
              "    <tr>\n",
              "      <th>2000</th>\n",
              "      <td>111.083758</td>\n",
              "      <td>2.472032e+06</td>\n",
              "      <td>9.224475</td>\n",
              "      <td>237.797111</td>\n",
              "      <td>985.362877</td>\n",
              "      <td>4.208403</td>\n",
              "    </tr>\n",
              "    <tr>\n",
              "      <th>2001</th>\n",
              "      <td>113.521386</td>\n",
              "      <td>2.321402e+06</td>\n",
              "      <td>8.371469</td>\n",
              "      <td>133.013010</td>\n",
              "      <td>60.050396</td>\n",
              "      <td>4.612658</td>\n",
              "    </tr>\n",
              "    <tr>\n",
              "      <th>2002</th>\n",
              "      <td>120.354357</td>\n",
              "      <td>2.145645e+06</td>\n",
              "      <td>8.304833</td>\n",
              "      <td>101.179365</td>\n",
              "      <td>47.594361</td>\n",
              "      <td>6.226281</td>\n",
              "    </tr>\n",
              "    <tr>\n",
              "      <th>2003</th>\n",
              "      <td>123.300578</td>\n",
              "      <td>1.888622e+06</td>\n",
              "      <td>8.403746</td>\n",
              "      <td>123.183919</td>\n",
              "      <td>55.663493</td>\n",
              "      <td>7.223933</td>\n",
              "    </tr>\n",
              "    <tr>\n",
              "      <th>2004</th>\n",
              "      <td>121.123322</td>\n",
              "      <td>1.782547e+06</td>\n",
              "      <td>8.332425</td>\n",
              "      <td>154.897398</td>\n",
              "      <td>139.524275</td>\n",
              "      <td>8.441597</td>\n",
              "    </tr>\n",
              "    <tr>\n",
              "      <th>2005</th>\n",
              "      <td>121.028369</td>\n",
              "      <td>1.768876e+06</td>\n",
              "      <td>8.135972</td>\n",
              "      <td>107.111221</td>\n",
              "      <td>41.438184</td>\n",
              "      <td>9.397078</td>\n",
              "    </tr>\n",
              "    <tr>\n",
              "      <th>2006</th>\n",
              "      <td>117.178600</td>\n",
              "      <td>1.957264e+06</td>\n",
              "      <td>8.138090</td>\n",
              "      <td>151.361249</td>\n",
              "      <td>38.657484</td>\n",
              "      <td>10.339898</td>\n",
              "    </tr>\n",
              "    <tr>\n",
              "      <th>2007</th>\n",
              "      <td>116.040348</td>\n",
              "      <td>2.035696e+06</td>\n",
              "      <td>8.027581</td>\n",
              "      <td>202.622082</td>\n",
              "      <td>43.325023</td>\n",
              "      <td>10.735181</td>\n",
              "    </tr>\n",
              "    <tr>\n",
              "      <th>2008</th>\n",
              "      <td>120.785016</td>\n",
              "      <td>2.046455e+06</td>\n",
              "      <td>7.892854</td>\n",
              "      <td>255.954415</td>\n",
              "      <td>58.588197</td>\n",
              "      <td>12.690115</td>\n",
              "    </tr>\n",
              "    <tr>\n",
              "      <th>2009</th>\n",
              "      <td>118.139116</td>\n",
              "      <td>2.154993e+06</td>\n",
              "      <td>7.688192</td>\n",
              "      <td>215.699318</td>\n",
              "      <td>652.694163</td>\n",
              "      <td>10.619376</td>\n",
              "    </tr>\n",
              "    <tr>\n",
              "      <th>2010</th>\n",
              "      <td>117.992863</td>\n",
              "      <td>2.423720e+06</td>\n",
              "      <td>7.575013</td>\n",
              "      <td>262.951203</td>\n",
              "      <td>91.862105</td>\n",
              "      <td>8.551217</td>\n",
              "    </tr>\n",
              "    <tr>\n",
              "      <th>2011</th>\n",
              "      <td>121.069355</td>\n",
              "      <td>2.461332e+06</td>\n",
              "      <td>7.786182</td>\n",
              "      <td>301.754519</td>\n",
              "      <td>59.774667</td>\n",
              "      <td>9.237591</td>\n",
              "    </tr>\n",
              "    <tr>\n",
              "      <th>2012</th>\n",
              "      <td>120.769912</td>\n",
              "      <td>2.747094e+06</td>\n",
              "      <td>7.796063</td>\n",
              "      <td>258.804138</td>\n",
              "      <td>60.994502</td>\n",
              "      <td>8.808904</td>\n",
              "    </tr>\n",
              "    <tr>\n",
              "      <th>2013</th>\n",
              "      <td>122.082569</td>\n",
              "      <td>2.741505e+06</td>\n",
              "      <td>7.797024</td>\n",
              "      <td>255.991023</td>\n",
              "      <td>172.307591</td>\n",
              "      <td>9.308225</td>\n",
              "    </tr>\n",
              "    <tr>\n",
              "      <th>2014</th>\n",
              "      <td>129.263877</td>\n",
              "      <td>2.700008e+06</td>\n",
              "      <td>7.588334</td>\n",
              "      <td>442.359068</td>\n",
              "      <td>192.737183</td>\n",
              "      <td>10.064673</td>\n",
              "    </tr>\n",
              "    <tr>\n",
              "      <th>2015</th>\n",
              "      <td>128.591949</td>\n",
              "      <td>3.340131e+06</td>\n",
              "      <td>7.217820</td>\n",
              "      <td>237.933197</td>\n",
              "      <td>326.535511</td>\n",
              "      <td>8.054361</td>\n",
              "    </tr>\n",
              "    <tr>\n",
              "      <th>2016</th>\n",
              "      <td>133.117021</td>\n",
              "      <td>3.693289e+06</td>\n",
              "      <td>6.846478</td>\n",
              "      <td>247.083959</td>\n",
              "      <td>103.901761</td>\n",
              "      <td>6.915613</td>\n",
              "    </tr>\n",
              "    <tr>\n",
              "      <th>2017</th>\n",
              "      <td>131.126888</td>\n",
              "      <td>3.352850e+06</td>\n",
              "      <td>6.781353</td>\n",
              "      <td>246.281796</td>\n",
              "      <td>46.196861</td>\n",
              "      <td>368.736351</td>\n",
              "    </tr>\n",
              "    <tr>\n",
              "      <th>2018</th>\n",
              "      <td>133.669821</td>\n",
              "      <td>4.178890e+06</td>\n",
              "      <td>6.596546</td>\n",
              "      <td>232.992036</td>\n",
              "      <td>499.269966</td>\n",
              "      <td>7.233643</td>\n",
              "    </tr>\n",
              "  </tbody>\n",
              "</table>\n",
              "</div>"
            ],
            "text/plain": [
              "             utility_id_ferc1  ...  fuel_cost_per_mmbtu\n",
              "report_year                    ...                     \n",
              "1994               106.120648  ...             3.086977\n",
              "1995               110.139051  ...             2.868838\n",
              "1996               108.714154  ...             2.695880\n",
              "1997               108.366545  ...             3.113486\n",
              "1998               109.845528  ...             2.775862\n",
              "1999               108.222857  ...             2.740251\n",
              "2000               111.083758  ...             4.208403\n",
              "2001               113.521386  ...             4.612658\n",
              "2002               120.354357  ...             6.226281\n",
              "2003               123.300578  ...             7.223933\n",
              "2004               121.123322  ...             8.441597\n",
              "2005               121.028369  ...             9.397078\n",
              "2006               117.178600  ...            10.339898\n",
              "2007               116.040348  ...            10.735181\n",
              "2008               120.785016  ...            12.690115\n",
              "2009               118.139116  ...            10.619376\n",
              "2010               117.992863  ...             8.551217\n",
              "2011               121.069355  ...             9.237591\n",
              "2012               120.769912  ...             8.808904\n",
              "2013               122.082569  ...             9.308225\n",
              "2014               129.263877  ...            10.064673\n",
              "2015               128.591949  ...             8.054361\n",
              "2016               133.117021  ...             6.915613\n",
              "2017               131.126888  ...           368.736351\n",
              "2018               133.669821  ...             7.233643\n",
              "\n",
              "[25 rows x 6 columns]"
            ]
          },
          "metadata": {},
          "execution_count": 78
        }
      ]
    },
    {
      "cell_type": "code",
      "metadata": {
        "colab": {
          "base_uri": "https://localhost:8080/",
          "height": 470
        },
        "id": "HzrMsHBkPNdS",
        "outputId": "2c04879e-b1c2-447a-fe79-4f7a55022059"
      },
      "source": [
        "fuel_data.groupby(['report_year','fuel_type_code_pudl']).mean()"
      ],
      "execution_count": null,
      "outputs": [
        {
          "output_type": "execute_result",
          "data": {
            "text/html": [
              "<div>\n",
              "<style scoped>\n",
              "    .dataframe tbody tr th:only-of-type {\n",
              "        vertical-align: middle;\n",
              "    }\n",
              "\n",
              "    .dataframe tbody tr th {\n",
              "        vertical-align: top;\n",
              "    }\n",
              "\n",
              "    .dataframe thead th {\n",
              "        text-align: right;\n",
              "    }\n",
              "</style>\n",
              "<table border=\"1\" class=\"dataframe\">\n",
              "  <thead>\n",
              "    <tr style=\"text-align: right;\">\n",
              "      <th></th>\n",
              "      <th></th>\n",
              "      <th>utility_id_ferc1</th>\n",
              "      <th>fuel_qty_burned</th>\n",
              "      <th>fuel_mmbtu_per_unit</th>\n",
              "      <th>fuel_cost_per_unit_burned</th>\n",
              "      <th>fuel_cost_per_unit_delivered</th>\n",
              "      <th>fuel_cost_per_mmbtu</th>\n",
              "    </tr>\n",
              "    <tr>\n",
              "      <th>report_year</th>\n",
              "      <th>fuel_type_code_pudl</th>\n",
              "      <th></th>\n",
              "      <th></th>\n",
              "      <th></th>\n",
              "      <th></th>\n",
              "      <th></th>\n",
              "      <th></th>\n",
              "    </tr>\n",
              "  </thead>\n",
              "  <tbody>\n",
              "    <tr>\n",
              "      <th rowspan=\"5\" valign=\"top\">1994</th>\n",
              "      <th>coal</th>\n",
              "      <td>106.168421</td>\n",
              "      <td>1.509912e+06</td>\n",
              "      <td>21.670377</td>\n",
              "      <td>31.546467</td>\n",
              "      <td>124.663939</td>\n",
              "      <td>1.436099</td>\n",
              "    </tr>\n",
              "    <tr>\n",
              "      <th>gas</th>\n",
              "      <td>111.804928</td>\n",
              "      <td>4.994274e+06</td>\n",
              "      <td>1.022660</td>\n",
              "      <td>22.161183</td>\n",
              "      <td>16.630534</td>\n",
              "      <td>2.810101</td>\n",
              "    </tr>\n",
              "    <tr>\n",
              "      <th>nuclear</th>\n",
              "      <td>93.563380</td>\n",
              "      <td>2.914601e+06</td>\n",
              "      <td>19.495554</td>\n",
              "      <td>3211.033155</td>\n",
              "      <td>49.063268</td>\n",
              "      <td>1.923014</td>\n",
              "    </tr>\n",
              "    <tr>\n",
              "      <th>oil</th>\n",
              "      <td>89.283133</td>\n",
              "      <td>8.853711e+03</td>\n",
              "      <td>5.786372</td>\n",
              "      <td>56.398759</td>\n",
              "      <td>45.920711</td>\n",
              "      <td>6.910938</td>\n",
              "    </tr>\n",
              "    <tr>\n",
              "      <th>other</th>\n",
              "      <td>100.666667</td>\n",
              "      <td>4.245382e+05</td>\n",
              "      <td>0.107292</td>\n",
              "      <td>9.728083</td>\n",
              "      <td>9.762333</td>\n",
              "      <td>2.331167</td>\n",
              "    </tr>\n",
              "    <tr>\n",
              "      <th>...</th>\n",
              "      <th>...</th>\n",
              "      <td>...</td>\n",
              "      <td>...</td>\n",
              "      <td>...</td>\n",
              "      <td>...</td>\n",
              "      <td>...</td>\n",
              "      <td>...</td>\n",
              "    </tr>\n",
              "    <tr>\n",
              "      <th rowspan=\"5\" valign=\"top\">2018</th>\n",
              "      <th>coal</th>\n",
              "      <td>134.018957</td>\n",
              "      <td>1.524218e+06</td>\n",
              "      <td>19.273500</td>\n",
              "      <td>44.967758</td>\n",
              "      <td>1204.041209</td>\n",
              "      <td>2.305667</td>\n",
              "    </tr>\n",
              "    <tr>\n",
              "      <th>gas</th>\n",
              "      <td>134.971111</td>\n",
              "      <td>7.724773e+06</td>\n",
              "      <td>1.037630</td>\n",
              "      <td>9.605542</td>\n",
              "      <td>8.559787</td>\n",
              "      <td>4.351239</td>\n",
              "    </tr>\n",
              "    <tr>\n",
              "      <th>nuclear</th>\n",
              "      <td>130.100000</td>\n",
              "      <td>8.354727e+06</td>\n",
              "      <td>13.031417</td>\n",
              "      <td>8663.358050</td>\n",
              "      <td>413.924250</td>\n",
              "      <td>0.714400</td>\n",
              "    </tr>\n",
              "    <tr>\n",
              "      <th>oil</th>\n",
              "      <td>130.811024</td>\n",
              "      <td>2.352474e+04</td>\n",
              "      <td>5.788785</td>\n",
              "      <td>133.214969</td>\n",
              "      <td>819.322461</td>\n",
              "      <td>16.162048</td>\n",
              "    </tr>\n",
              "    <tr>\n",
              "      <th>waste</th>\n",
              "      <td>142.312500</td>\n",
              "      <td>2.060233e+05</td>\n",
              "      <td>0.543370</td>\n",
              "      <td>41.310750</td>\n",
              "      <td>32.171813</td>\n",
              "      <td>19.699562</td>\n",
              "    </tr>\n",
              "  </tbody>\n",
              "</table>\n",
              "<p>148 rows × 6 columns</p>\n",
              "</div>"
            ],
            "text/plain": [
              "                                 utility_id_ferc1  ...  fuel_cost_per_mmbtu\n",
              "report_year fuel_type_code_pudl                    ...                     \n",
              "1994        coal                       106.168421  ...             1.436099\n",
              "            gas                        111.804928  ...             2.810101\n",
              "            nuclear                     93.563380  ...             1.923014\n",
              "            oil                         89.283133  ...             6.910938\n",
              "            other                      100.666667  ...             2.331167\n",
              "...                                           ...  ...                  ...\n",
              "2018        coal                       134.018957  ...             2.305667\n",
              "            gas                        134.971111  ...             4.351239\n",
              "            nuclear                    130.100000  ...             0.714400\n",
              "            oil                        130.811024  ...            16.162048\n",
              "            waste                      142.312500  ...            19.699562\n",
              "\n",
              "[148 rows x 6 columns]"
            ]
          },
          "metadata": {},
          "execution_count": 88
        }
      ]
    },
    {
      "cell_type": "code",
      "metadata": {
        "colab": {
          "base_uri": "https://localhost:8080/",
          "height": 875
        },
        "id": "ri5-ujnNPlY7",
        "outputId": "4da29b4c-e8a6-4de0-dac1-cd27d07c1f1c"
      },
      "source": [
        "fuel_data.groupby('report_year').first()"
      ],
      "execution_count": null,
      "outputs": [
        {
          "output_type": "execute_result",
          "data": {
            "text/html": [
              "<div>\n",
              "<style scoped>\n",
              "    .dataframe tbody tr th:only-of-type {\n",
              "        vertical-align: middle;\n",
              "    }\n",
              "\n",
              "    .dataframe tbody tr th {\n",
              "        vertical-align: top;\n",
              "    }\n",
              "\n",
              "    .dataframe thead th {\n",
              "        text-align: right;\n",
              "    }\n",
              "</style>\n",
              "<table border=\"1\" class=\"dataframe\">\n",
              "  <thead>\n",
              "    <tr style=\"text-align: right;\">\n",
              "      <th></th>\n",
              "      <th>record_id</th>\n",
              "      <th>utility_id_ferc1</th>\n",
              "      <th>plant_name_ferc1</th>\n",
              "      <th>fuel_type_code_pudl</th>\n",
              "      <th>fuel_unit</th>\n",
              "      <th>fuel_qty_burned</th>\n",
              "      <th>fuel_mmbtu_per_unit</th>\n",
              "      <th>fuel_cost_per_unit_burned</th>\n",
              "      <th>fuel_cost_per_unit_delivered</th>\n",
              "      <th>fuel_cost_per_mmbtu</th>\n",
              "    </tr>\n",
              "    <tr>\n",
              "      <th>report_year</th>\n",
              "      <th></th>\n",
              "      <th></th>\n",
              "      <th></th>\n",
              "      <th></th>\n",
              "      <th></th>\n",
              "      <th></th>\n",
              "      <th></th>\n",
              "      <th></th>\n",
              "      <th></th>\n",
              "      <th></th>\n",
              "    </tr>\n",
              "  </thead>\n",
              "  <tbody>\n",
              "    <tr>\n",
              "      <th>1994</th>\n",
              "      <td>f1_fuel_1994_12_1_0_7</td>\n",
              "      <td>1</td>\n",
              "      <td>rockport</td>\n",
              "      <td>coal</td>\n",
              "      <td>ton</td>\n",
              "      <td>5377489.0</td>\n",
              "      <td>16.590000</td>\n",
              "      <td>18.590</td>\n",
              "      <td>18.530</td>\n",
              "      <td>1.1210</td>\n",
              "    </tr>\n",
              "    <tr>\n",
              "      <th>1995</th>\n",
              "      <td>f1_fuel_1995_12_200_0_1</td>\n",
              "      <td>200</td>\n",
              "      <td>aroostook valley</td>\n",
              "      <td>waste</td>\n",
              "      <td>ton</td>\n",
              "      <td>327060.0</td>\n",
              "      <td>0.004500</td>\n",
              "      <td>0.000</td>\n",
              "      <td>13.150</td>\n",
              "      <td>1.4600</td>\n",
              "    </tr>\n",
              "    <tr>\n",
              "      <th>1996</th>\n",
              "      <td>f1_fuel_1996_12_204_0_1</td>\n",
              "      <td>204</td>\n",
              "      <td>seabrook</td>\n",
              "      <td>nuclear</td>\n",
              "      <td>gramsU</td>\n",
              "      <td>34.0</td>\n",
              "      <td>0.000006</td>\n",
              "      <td>26.381</td>\n",
              "      <td>0.000</td>\n",
              "      <td>0.0000</td>\n",
              "    </tr>\n",
              "    <tr>\n",
              "      <th>1997</th>\n",
              "      <td>f1_fuel_1997_12_1_0_7</td>\n",
              "      <td>1</td>\n",
              "      <td>rockport total aeg</td>\n",
              "      <td>coal</td>\n",
              "      <td>ton</td>\n",
              "      <td>5043970.0</td>\n",
              "      <td>16.752000</td>\n",
              "      <td>19.369</td>\n",
              "      <td>19.070</td>\n",
              "      <td>1.1560</td>\n",
              "    </tr>\n",
              "    <tr>\n",
              "      <th>1998</th>\n",
              "      <td>f1_fuel_1998_12_1_0_7</td>\n",
              "      <td>1</td>\n",
              "      <td>rockport total aeg</td>\n",
              "      <td>coal</td>\n",
              "      <td>ton</td>\n",
              "      <td>4965881.0</td>\n",
              "      <td>17.198000</td>\n",
              "      <td>19.282</td>\n",
              "      <td>19.338</td>\n",
              "      <td>1.1260</td>\n",
              "    </tr>\n",
              "    <tr>\n",
              "      <th>1999</th>\n",
              "      <td>f1_fuel_1999_12_141_0_1</td>\n",
              "      <td>141</td>\n",
              "      <td>boardman</td>\n",
              "      <td>coal</td>\n",
              "      <td>ton</td>\n",
              "      <td>2118951.0</td>\n",
              "      <td>18.052000</td>\n",
              "      <td>20.043</td>\n",
              "      <td>20.054</td>\n",
              "      <td>1.1100</td>\n",
              "    </tr>\n",
              "    <tr>\n",
              "      <th>2000</th>\n",
              "      <td>f1_fuel_2000_12_141_0_1</td>\n",
              "      <td>141</td>\n",
              "      <td>boardman</td>\n",
              "      <td>coal</td>\n",
              "      <td>ton</td>\n",
              "      <td>2084751.0</td>\n",
              "      <td>17.034000</td>\n",
              "      <td>19.225</td>\n",
              "      <td>19.293</td>\n",
              "      <td>1.1290</td>\n",
              "    </tr>\n",
              "    <tr>\n",
              "      <th>2001</th>\n",
              "      <td>f1_fuel_2001_12_195_0_1</td>\n",
              "      <td>195</td>\n",
              "      <td>pulliam 3</td>\n",
              "      <td>coal</td>\n",
              "      <td>ton</td>\n",
              "      <td>55679.0</td>\n",
              "      <td>17.638000</td>\n",
              "      <td>20.560</td>\n",
              "      <td>19.380</td>\n",
              "      <td>1.1560</td>\n",
              "    </tr>\n",
              "    <tr>\n",
              "      <th>2002</th>\n",
              "      <td>f1_fuel_2002_12_195_0_1</td>\n",
              "      <td>195</td>\n",
              "      <td>pulliam 3</td>\n",
              "      <td>coal</td>\n",
              "      <td>ton</td>\n",
              "      <td>82877.0</td>\n",
              "      <td>17.456000</td>\n",
              "      <td>19.410</td>\n",
              "      <td>17.070</td>\n",
              "      <td>1.1020</td>\n",
              "    </tr>\n",
              "    <tr>\n",
              "      <th>2003</th>\n",
              "      <td>f1_fuel_2003_12_283_0_1</td>\n",
              "      <td>283</td>\n",
              "      <td>talbot energy</td>\n",
              "      <td>gas</td>\n",
              "      <td>mcf</td>\n",
              "      <td>180788.0</td>\n",
              "      <td>1.000000</td>\n",
              "      <td>279.130</td>\n",
              "      <td>279.130</td>\n",
              "      <td>2.7913</td>\n",
              "    </tr>\n",
              "    <tr>\n",
              "      <th>2004</th>\n",
              "      <td>f1_fuel_2004_12_1_0_7</td>\n",
              "      <td>1</td>\n",
              "      <td>rockport total aeg</td>\n",
              "      <td>coal</td>\n",
              "      <td>ton</td>\n",
              "      <td>4629653.0</td>\n",
              "      <td>17.864000</td>\n",
              "      <td>24.092</td>\n",
              "      <td>24.022</td>\n",
              "      <td>1.3490</td>\n",
              "    </tr>\n",
              "    <tr>\n",
              "      <th>2005</th>\n",
              "      <td>f1_fuel_2005_12_134_0_1</td>\n",
              "      <td>134</td>\n",
              "      <td>carbon</td>\n",
              "      <td>coal</td>\n",
              "      <td>ton</td>\n",
              "      <td>673090.0</td>\n",
              "      <td>23.028000</td>\n",
              "      <td>17.552</td>\n",
              "      <td>17.159</td>\n",
              "      <td>0.7620</td>\n",
              "    </tr>\n",
              "    <tr>\n",
              "      <th>2006</th>\n",
              "      <td>f1_fuel_2006_12_186_0_1</td>\n",
              "      <td>186</td>\n",
              "      <td>altavista</td>\n",
              "      <td>coal</td>\n",
              "      <td>ton</td>\n",
              "      <td>160919.0</td>\n",
              "      <td>25.484000</td>\n",
              "      <td>65.570</td>\n",
              "      <td>66.870</td>\n",
              "      <td>2.5700</td>\n",
              "    </tr>\n",
              "    <tr>\n",
              "      <th>2007</th>\n",
              "      <td>f1_fuel_2007_12_186_0_1</td>\n",
              "      <td>186</td>\n",
              "      <td>altavista</td>\n",
              "      <td>coal</td>\n",
              "      <td>ton</td>\n",
              "      <td>152665.0</td>\n",
              "      <td>25.660000</td>\n",
              "      <td>80.460</td>\n",
              "      <td>79.830</td>\n",
              "      <td>3.1400</td>\n",
              "    </tr>\n",
              "    <tr>\n",
              "      <th>2008</th>\n",
              "      <td>f1_fuel_2008_12_122_0_1</td>\n",
              "      <td>122</td>\n",
              "      <td>big stone</td>\n",
              "      <td>coal</td>\n",
              "      <td>ton</td>\n",
              "      <td>518267.0</td>\n",
              "      <td>16.846000</td>\n",
              "      <td>29.148</td>\n",
              "      <td>29.148</td>\n",
              "      <td>2.7160</td>\n",
              "    </tr>\n",
              "    <tr>\n",
              "      <th>2009</th>\n",
              "      <td>f1_fuel_2009_12_122_0_1</td>\n",
              "      <td>122</td>\n",
              "      <td>big stone</td>\n",
              "      <td>coal</td>\n",
              "      <td>ton</td>\n",
              "      <td>551992.0</td>\n",
              "      <td>16.846000</td>\n",
              "      <td>30.411</td>\n",
              "      <td>30.411</td>\n",
              "      <td>2.4850</td>\n",
              "    </tr>\n",
              "    <tr>\n",
              "      <th>2010</th>\n",
              "      <td>f1_fuel_2010_12_122_0_1</td>\n",
              "      <td>122</td>\n",
              "      <td>big stone</td>\n",
              "      <td>coal</td>\n",
              "      <td>ton</td>\n",
              "      <td>513861.0</td>\n",
              "      <td>16.846000</td>\n",
              "      <td>33.299</td>\n",
              "      <td>33.299</td>\n",
              "      <td>1.7820</td>\n",
              "    </tr>\n",
              "    <tr>\n",
              "      <th>2011</th>\n",
              "      <td>f1_fuel_2011_12_122_0_1</td>\n",
              "      <td>122</td>\n",
              "      <td>big stone</td>\n",
              "      <td>coal</td>\n",
              "      <td>ton</td>\n",
              "      <td>392102.0</td>\n",
              "      <td>16.486000</td>\n",
              "      <td>35.301</td>\n",
              "      <td>35.301</td>\n",
              "      <td>2.0960</td>\n",
              "    </tr>\n",
              "    <tr>\n",
              "      <th>2012</th>\n",
              "      <td>f1_fuel_2012_12_122_0_1</td>\n",
              "      <td>122</td>\n",
              "      <td>big stone</td>\n",
              "      <td>coal</td>\n",
              "      <td>ton</td>\n",
              "      <td>508138.0</td>\n",
              "      <td>16.846000</td>\n",
              "      <td>34.930</td>\n",
              "      <td>34.930</td>\n",
              "      <td>2.0740</td>\n",
              "    </tr>\n",
              "    <tr>\n",
              "      <th>2013</th>\n",
              "      <td>f1_fuel_2013_12_122_0_1</td>\n",
              "      <td>122</td>\n",
              "      <td>big stone</td>\n",
              "      <td>coal</td>\n",
              "      <td>ton</td>\n",
              "      <td>484678.0</td>\n",
              "      <td>16.846000</td>\n",
              "      <td>32.971</td>\n",
              "      <td>32.971</td>\n",
              "      <td>1.9570</td>\n",
              "    </tr>\n",
              "    <tr>\n",
              "      <th>2014</th>\n",
              "      <td>f1_fuel_2014_12_122_0_1</td>\n",
              "      <td>122</td>\n",
              "      <td>big stone</td>\n",
              "      <td>coal</td>\n",
              "      <td>ton</td>\n",
              "      <td>453825.0</td>\n",
              "      <td>16.572000</td>\n",
              "      <td>33.834</td>\n",
              "      <td>33.834</td>\n",
              "      <td>2.0420</td>\n",
              "    </tr>\n",
              "    <tr>\n",
              "      <th>2015</th>\n",
              "      <td>f1_fuel_2015_12_122_0_2</td>\n",
              "      <td>122</td>\n",
              "      <td>big stone</td>\n",
              "      <td>oil</td>\n",
              "      <td>bbl</td>\n",
              "      <td>2415.0</td>\n",
              "      <td>5.880000</td>\n",
              "      <td>58.465</td>\n",
              "      <td>58.465</td>\n",
              "      <td>9.9430</td>\n",
              "    </tr>\n",
              "    <tr>\n",
              "      <th>2016</th>\n",
              "      <td>f1_fuel_2016_12_122_0_2</td>\n",
              "      <td>122</td>\n",
              "      <td>big stone</td>\n",
              "      <td>oil</td>\n",
              "      <td>bbl</td>\n",
              "      <td>949.0</td>\n",
              "      <td>5.880000</td>\n",
              "      <td>51.787</td>\n",
              "      <td>51.787</td>\n",
              "      <td>8.8070</td>\n",
              "    </tr>\n",
              "    <tr>\n",
              "      <th>2017</th>\n",
              "      <td>f1_fuel_2017_12_122_0_2</td>\n",
              "      <td>122</td>\n",
              "      <td>big stone</td>\n",
              "      <td>oil</td>\n",
              "      <td>bbl</td>\n",
              "      <td>1054.0</td>\n",
              "      <td>5.880000</td>\n",
              "      <td>60.388</td>\n",
              "      <td>60.388</td>\n",
              "      <td>10.2700</td>\n",
              "    </tr>\n",
              "    <tr>\n",
              "      <th>2018</th>\n",
              "      <td>f1_fuel_2018_12_122_0_2</td>\n",
              "      <td>122</td>\n",
              "      <td>big stone</td>\n",
              "      <td>oil</td>\n",
              "      <td>bbl</td>\n",
              "      <td>2344.0</td>\n",
              "      <td>5.880000</td>\n",
              "      <td>63.123</td>\n",
              "      <td>63.123</td>\n",
              "      <td>10.7350</td>\n",
              "    </tr>\n",
              "  </tbody>\n",
              "</table>\n",
              "</div>"
            ],
            "text/plain": [
              "                           record_id  ...  fuel_cost_per_mmbtu\n",
              "report_year                           ...                     \n",
              "1994           f1_fuel_1994_12_1_0_7  ...               1.1210\n",
              "1995         f1_fuel_1995_12_200_0_1  ...               1.4600\n",
              "1996         f1_fuel_1996_12_204_0_1  ...               0.0000\n",
              "1997           f1_fuel_1997_12_1_0_7  ...               1.1560\n",
              "1998           f1_fuel_1998_12_1_0_7  ...               1.1260\n",
              "1999         f1_fuel_1999_12_141_0_1  ...               1.1100\n",
              "2000         f1_fuel_2000_12_141_0_1  ...               1.1290\n",
              "2001         f1_fuel_2001_12_195_0_1  ...               1.1560\n",
              "2002         f1_fuel_2002_12_195_0_1  ...               1.1020\n",
              "2003         f1_fuel_2003_12_283_0_1  ...               2.7913\n",
              "2004           f1_fuel_2004_12_1_0_7  ...               1.3490\n",
              "2005         f1_fuel_2005_12_134_0_1  ...               0.7620\n",
              "2006         f1_fuel_2006_12_186_0_1  ...               2.5700\n",
              "2007         f1_fuel_2007_12_186_0_1  ...               3.1400\n",
              "2008         f1_fuel_2008_12_122_0_1  ...               2.7160\n",
              "2009         f1_fuel_2009_12_122_0_1  ...               2.4850\n",
              "2010         f1_fuel_2010_12_122_0_1  ...               1.7820\n",
              "2011         f1_fuel_2011_12_122_0_1  ...               2.0960\n",
              "2012         f1_fuel_2012_12_122_0_1  ...               2.0740\n",
              "2013         f1_fuel_2013_12_122_0_1  ...               1.9570\n",
              "2014         f1_fuel_2014_12_122_0_1  ...               2.0420\n",
              "2015         f1_fuel_2015_12_122_0_2  ...               9.9430\n",
              "2016         f1_fuel_2016_12_122_0_2  ...               8.8070\n",
              "2017         f1_fuel_2017_12_122_0_2  ...              10.2700\n",
              "2018         f1_fuel_2018_12_122_0_2  ...              10.7350\n",
              "\n",
              "[25 rows x 10 columns]"
            ]
          },
          "metadata": {},
          "execution_count": 91
        }
      ]
    },
    {
      "cell_type": "code",
      "metadata": {
        "colab": {
          "base_uri": "https://localhost:8080/"
        },
        "id": "9509ccyORv0v",
        "outputId": "170780a4-5748-4e72-c70d-7cae97db5035"
      },
      "source": [
        "print(coal)"
      ],
      "execution_count": null,
      "outputs": [
        {
          "output_type": "stream",
          "text": [
            "                                  record_id  ...  fuel_cost_per_mmbtu\n",
            "fuel_type_code_pudl                          ...                     \n",
            "coal                  f1_fuel_1994_12_1_0_7  ...                1.121\n",
            "gas                  f1_fuel_1994_12_2_0_10  ...                2.570\n",
            "nuclear               f1_fuel_1994_12_2_1_1  ...                0.450\n",
            "oil                   f1_fuel_1994_12_6_0_2  ...                5.469\n",
            "other                f1_fuel_1994_12_11_0_6  ...                2.335\n",
            "waste                 f1_fuel_1994_12_9_0_3  ...                1.072\n",
            "\n",
            "[6 rows x 10 columns]\n"
          ],
          "name": "stdout"
        }
      ]
    },
    {
      "cell_type": "code",
      "metadata": {
        "id": "GZGMANwgRyBw"
      },
      "source": [],
      "execution_count": null,
      "outputs": []
    }
  ]
}